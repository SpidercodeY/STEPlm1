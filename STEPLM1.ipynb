{
 "cells": [
  {
   "cell_type": "markdown",
   "metadata": {},
   "source": [
    "<h1>Hello,各位！这里是我对马老师的代码谈谈个人的理解，并且加了一些注释，调整了某些代码块的位置，希望能够帮助大家更好的理解。<span class=\"tocSkip\"></span></h1>\n",
    "注：大家可以先对每一部分的原理保证能够理解，这样看代码就比较容易，不要上来就硬撸代码，“劳命又伤财，身体最重要！”废话不多说，直接上手！\n",
    "\n",
    "整体代码其实可以分成三部分组成：\n",
    "1.乔利斯分解与前/回代法求解方程\n",
    "2.删除一个变量的简易矩阵运算（givens变换，不改变向量的模，只是旋转方向，可以类比“欧拉公式\"在复平面上作用在任意向量的结果）和增加一个变量的简易矩阵运算（forupdate）（为逐步回归做准备，因为逐步就是要删除或者增加变量呀~）\n",
    "3.逐步回归（这个应该是里面最难理解的一部分了啦，需要详细说明一下）：\n",
    "注：对于不太懂的同学，建议先看看逐步回归的基本思想，就比较好理解啦！\n",
    "①在代码中，设定有两个bool类型一维数组，MFLAG和flag，其中最关键的就是flag了，因为它当为TRUE表示方程中将该变量剔除，FALSE表示将该变量进行加回。MFLAG则保证每一趟剔除和增加都包含了常数项。\n",
    "②AB矩阵，存放着当前还有那些变量保留在方程中，如AB=[1,5,8],这说明方程中第1个，第5个，第8个变量仍保留在方程中。而A矩阵则表示在每一轮剔除和添加的循环中，在该轮循环方程中的保留的变量，在每次循环后，会得到更新。\n",
    "③AICk，表示在剔除第k个变量后，方程中的AIC的值，用来判断是否应该剔除该变量。\n",
    "④总结一句话，它的基本思想就是：先把所有的变量放在一起进行回归，得到一个AIC的值，然后先剔除一个变量，剔除标准是选择一个AICk最小的变量进行剔除，同时将对应位置的flag的TRUE变为Flase（以保证后面剔除的变量可以加回到方程中）。最终的停止条件则是无论是增加变量还是剔除变量都无法使AIC降低时，停止迭代，跳出循环。\n",
    "\n",
    "##由于在这里许多细节内容不方便给大家讲解到位，如果还有不太理解，欢迎大家私下和我在交流哈，有什么不足之处，欢迎批评指正。\n"
   ]
  },
  {
   "cell_type": "markdown",
   "metadata": {},
   "source": [
    "# <font color=red>\n",
    "对于回归问题，该方法的应用实际上是：\n",
    "$$\n",
    "    \\hat \\beta = (X^T X)^{-1} X^T Y \\\\\n",
    "    (X^T X) \\hat \\beta = X^T Y\n",
    "$$\n",
    "    设$ X^T X = A, \\hat \\beta = x, X^T Y = b $,\n",
    "    则本质上就是求解$ Ax = b $<br>\n",
    "    接下来就是先利用Cholesky分解将$A$分成$LL^T$，再利用前代法和回代法最终得出 $\\hat \\beta$\n",
    "</font>"
   ]
  },
  {
   "cell_type": "code",
   "execution_count": 6,
   "metadata": {},
   "outputs": [],
   "source": [
    "###第一部分，乔利斯分解###\n",
    "Cholesky = function(Matr)\n",
    "{\n",
    "  m = dim(Matr)[1]\n",
    "  n = dim(Matr)[2]\n",
    "  if (m!=n) return ('the Matrix_dim is wrong!')\n",
    "  L=matrix(0,m,m)\n",
    "  for(i in 1:m)\n",
    "  {\n",
    "    L[i,i]=sqrt(Matr[i,i])\n",
    "    if(i<m)\n",
    "    {\n",
    "      L[(i+1):m,i]=Matr[(i+1):m,i]/L[i,i]\n",
    "      TL=L[(i+1):m,i]\n",
    "      TM=outer(TL,TL)\n",
    "      Matr[(i+1):m,(i+1):m]=Matr[(i+1):m,(i+1):m]-TM\n",
    "    }\n",
    "  }\n",
    "  L\n",
    "}"
   ]
  },
  {
   "cell_type": "code",
   "execution_count": 5,
   "metadata": {},
   "outputs": [],
   "source": [
    "##前代法\n",
    "prefoward=function(L,B)\n",
    "{\n",
    "  m=dim(L)[1]\n",
    "  n=dim(L)[2]\n",
    "  if(m!=length(B)) return('Wrong dimensions of matrix L or vector b! Please check')\n",
    "  if(m!=n) return ('the dim of Matrix is Wrong')\n",
    "  x = rep(0,m)\n",
    "  for (i in 1:m){\n",
    "    x[i]=B[i]/L[i,i]\n",
    "    if(i<m){\n",
    "      B[(i+1):m]= B[(i+1):m]-x[i]*L[(i+1):m,i]\n",
    "    }\n",
    "  }\n",
    "  x\n",
    "}"
   ]
  },
  {
   "cell_type": "code",
   "execution_count": 4,
   "metadata": {},
   "outputs": [],
   "source": [
    "##回代法\n",
    "backfoward = function(L,B)\n",
    "{\n",
    "  m=dim(L)[1]\n",
    "  n=dim(L)[2]\n",
    "  if(n!=length(B)) return('Wrong dimensions of matrix L or vector b! Please check')\n",
    "  if(m!=n) return ('the dim of Matrix is Wrong')\n",
    "  x = rep(0,m)\n",
    "  for (i in m:1){\n",
    "    x[i] = B[i]/L[i,i]\n",
    "    if(i>1){\n",
    "      B[(i-1):1]=B[(i-1):1]-x[i]*L[(i-1):1,i]\n",
    "    }\n",
    "  }\n",
    "  x\n",
    "}"
   ]
  },
  {
   "cell_type": "code",
   "execution_count": 10,
   "metadata": {},
   "outputs": [
    {
     "data": {
      "text/html": [
       "5"
      ],
      "text/latex": [
       "5"
      ],
      "text/markdown": [
       "5"
      ],
      "text/plain": [
       "[1] 5"
      ]
     },
     "metadata": {},
     "output_type": "display_data"
    },
    {
     "data": {
      "text/html": [
       "<table>\n",
       "<caption>A matrix: 1 × 2 of type dbl</caption>\n",
       "<tbody>\n",
       "\t<tr><td>5</td><td>-4.440892e-16</td></tr>\n",
       "</tbody>\n",
       "</table>\n"
      ],
      "text/latex": [
       "A matrix: 1 × 2 of type dbl\n",
       "\\begin{tabular}{ll}\n",
       "\t 5 & -4.440892e-16\\\\\n",
       "\\end{tabular}\n"
      ],
      "text/markdown": [
       "\n",
       "A matrix: 1 × 2 of type dbl\n",
       "\n",
       "| 5 | -4.440892e-16 |\n",
       "\n"
      ],
      "text/plain": [
       "     [,1] [,2]         \n",
       "[1,] 5    -4.440892e-16"
      ]
     },
     "metadata": {},
     "output_type": "display_data"
    }
   ],
   "source": [
    "####givens变换，实质上就是把向量旋转到坐标轴上，\n",
    "## mc和ms就是cos和sin，因为是正交变换，不改变向量的模，只是旋转其方向。\n",
    "givens = function(mx,lmx){\n",
    "  # lmx=sqrt(sum(mx*mx))\n",
    "  mc=mx[1]/lmx\n",
    "  ms=mx[2]/lmx\n",
    "  matrix(c(mc,ms,-ms,mc),ncol=2)\n",
    "}\n",
    "x1 = c(3,4)\n",
    "lmx = sqrt(sum(x1*x1))\n",
    "lmx\n",
    "x1%*%givens(x1,lmx)"
   ]
  },
  {
   "cell_type": "code",
   "execution_count": 11,
   "metadata": {},
   "outputs": [],
   "source": [
    "####mygivens 变换,一次只去掉第k个变量（删除变量）\n",
    "mgivens = function(L,k){\n",
    "  p = dim(L)[1]\n",
    "  if(k>p) return ('Wrong input of k!')\n",
    "  \n",
    "  mk = k\n",
    "  LK = L[-k,]\n",
    "  while(mk<p){\n",
    "    mx = LK[mk,mk:(mk+1)]\n",
    "    lmx = sqrt(sum(mx*mx))\n",
    "    LK[mk,mk:(mk+1)] = c(lmx,0)\n",
    "    if(mk<p-1){\n",
    "      LK[(mk+1):(p-1),mk:(mk+1)] = LK[(mk+1):(p-1),mk:(mk+1)]%*%givens(mx,lmx)\n",
    "    }\n",
    "    mk=mk+1\n",
    "  }\n",
    "  return (LK[,-p])\n",
    "}"
   ]
  },
  {
   "cell_type": "code",
   "execution_count": 12,
   "metadata": {},
   "outputs": [
    {
     "data": {
      "text/html": [
       "<table>\n",
       "<caption>A matrix: 6 × 6 of type dbl</caption>\n",
       "<tbody>\n",
       "\t<tr><td> 2.7283048</td><td>0.0000000</td><td> 0.0000000</td><td>0.000000</td><td>0.0000000</td><td>0.00000</td></tr>\n",
       "\t<tr><td>-1.2829700</td><td>2.3947625</td><td> 0.0000000</td><td>0.000000</td><td>0.0000000</td><td>0.00000</td></tr>\n",
       "\t<tr><td>-0.2241410</td><td>1.1997501</td><td> 3.0251491</td><td>0.000000</td><td>0.0000000</td><td>0.00000</td></tr>\n",
       "\t<tr><td>-0.7383328</td><td>1.0284736</td><td> 2.0287090</td><td>3.338521</td><td>0.0000000</td><td>0.00000</td></tr>\n",
       "\t<tr><td>-0.7282535</td><td>0.2908277</td><td>-1.3148446</td><td>1.541557</td><td>2.5880110</td><td>0.00000</td></tr>\n",
       "\t<tr><td>-0.7921550</td><td>1.4090805</td><td> 0.8018228</td><td>1.623171</td><td>0.7369177</td><td>1.83359</td></tr>\n",
       "</tbody>\n",
       "</table>\n"
      ],
      "text/latex": [
       "A matrix: 6 × 6 of type dbl\n",
       "\\begin{tabular}{llllll}\n",
       "\t  2.7283048 & 0.0000000 &  0.0000000 & 0.000000 & 0.0000000 & 0.00000\\\\\n",
       "\t -1.2829700 & 2.3947625 &  0.0000000 & 0.000000 & 0.0000000 & 0.00000\\\\\n",
       "\t -0.2241410 & 1.1997501 &  3.0251491 & 0.000000 & 0.0000000 & 0.00000\\\\\n",
       "\t -0.7383328 & 1.0284736 &  2.0287090 & 3.338521 & 0.0000000 & 0.00000\\\\\n",
       "\t -0.7282535 & 0.2908277 & -1.3148446 & 1.541557 & 2.5880110 & 0.00000\\\\\n",
       "\t -0.7921550 & 1.4090805 &  0.8018228 & 1.623171 & 0.7369177 & 1.83359\\\\\n",
       "\\end{tabular}\n"
      ],
      "text/markdown": [
       "\n",
       "A matrix: 6 × 6 of type dbl\n",
       "\n",
       "|  2.7283048 | 0.0000000 |  0.0000000 | 0.000000 | 0.0000000 | 0.00000 |\n",
       "| -1.2829700 | 2.3947625 |  0.0000000 | 0.000000 | 0.0000000 | 0.00000 |\n",
       "| -0.2241410 | 1.1997501 |  3.0251491 | 0.000000 | 0.0000000 | 0.00000 |\n",
       "| -0.7383328 | 1.0284736 |  2.0287090 | 3.338521 | 0.0000000 | 0.00000 |\n",
       "| -0.7282535 | 0.2908277 | -1.3148446 | 1.541557 | 2.5880110 | 0.00000 |\n",
       "| -0.7921550 | 1.4090805 |  0.8018228 | 1.623171 | 0.7369177 | 1.83359 |\n",
       "\n"
      ],
      "text/plain": [
       "     [,1]       [,2]      [,3]       [,4]     [,5]      [,6]   \n",
       "[1,]  2.7283048 0.0000000  0.0000000 0.000000 0.0000000 0.00000\n",
       "[2,] -1.2829700 2.3947625  0.0000000 0.000000 0.0000000 0.00000\n",
       "[3,] -0.2241410 1.1997501  3.0251491 0.000000 0.0000000 0.00000\n",
       "[4,] -0.7383328 1.0284736  2.0287090 3.338521 0.0000000 0.00000\n",
       "[5,] -0.7282535 0.2908277 -1.3148446 1.541557 2.5880110 0.00000\n",
       "[6,] -0.7921550 1.4090805  0.8018228 1.623171 0.7369177 1.83359"
      ]
     },
     "metadata": {},
     "output_type": "display_data"
    },
    {
     "name": "stderr",
     "output_type": "stream",
     "text": [
      "Warning message in 1:dim(L):\n",
      "\"numerical expression has 2 elements: only the first used\"\n"
     ]
    },
    {
     "name": "stdout",
     "output_type": "stream",
     "text": [
      "[1] \"k=\"\n",
      "[1] 1\n",
      "          [,1]       [,2]     [,3]      [,4]     [,5]\n",
      "[1,] 2.7167811  0.0000000 0.000000 0.0000000 0.000000\n",
      "[2,] 1.1633925  3.0475703 0.000000 0.0000000 0.000000\n",
      "[3,] 1.2552387  1.9937896 3.363548 0.0000000 0.000000\n",
      "[4,] 0.6002658 -1.3662666 1.571691 2.5924379 0.000000\n",
      "[5,] 1.6161494  0.7919477 1.626884 0.7316331 1.836998\n",
      "          [,1]       [,2]     [,3]      [,4]     [,5]\n",
      "[1,] 2.7167811  0.0000000 0.000000 0.0000000 0.000000\n",
      "[2,] 1.1633925  3.0475703 0.000000 0.0000000 0.000000\n",
      "[3,] 1.2552387  1.9937896 3.363548 0.0000000 0.000000\n",
      "[4,] 0.6002658 -1.3662666 1.571691 2.5924379 0.000000\n",
      "[5,] 1.6161494  0.7919477 1.626884 0.7316331 1.836998\n",
      "[1] \"k=\"\n",
      "[1] 2\n",
      "           [,1]      [,2]     [,3]      [,4]     [,5]\n",
      "[1,]  2.7283048  0.000000 0.000000 0.0000000 0.000000\n",
      "[2,] -0.2241410  3.254371 0.000000 0.0000000 0.000000\n",
      "[3,] -0.7383328  2.264972 3.345002 0.0000000 0.000000\n",
      "[4,] -0.7282535 -1.115018 1.585552 2.6702727 0.000000\n",
      "[5,] -0.7921550  1.264815 1.683134 0.9386623 1.963269\n",
      "           [,1]      [,2]     [,3]      [,4]     [,5]\n",
      "[1,]  2.7283048  0.000000 0.000000 0.0000000 0.000000\n",
      "[2,] -0.2241410  3.254371 0.000000 0.0000000 0.000000\n",
      "[3,] -0.7383328  2.264972 3.345002 0.0000000 0.000000\n",
      "[4,] -0.7282535 -1.115018 1.585552 2.6702727 0.000000\n",
      "[5,] -0.7921550  1.264815 1.683134 0.9386623 1.963269\n",
      "[1] \"k=\"\n",
      "[1] 3\n",
      "           [,1]      [,2]      [,3]      [,4]     [,5]\n",
      "[1,]  2.7283048 0.0000000 0.0000000 0.0000000 0.000000\n",
      "[2,] -1.2829700 2.3947625 0.0000000 0.0000000 0.000000\n",
      "[3,] -0.7383328 1.0284736 3.9065817 0.0000000 0.000000\n",
      "[4,] -0.7282535 0.2908277 0.6345917 3.2249512 0.000000\n",
      "[5,] -0.7921550 1.4090805 1.8035345 0.6854621 1.860136\n",
      "           [,1]      [,2]      [,3]      [,4]     [,5]\n",
      "[1,]  2.7283048 0.0000000 0.0000000 0.0000000 0.000000\n",
      "[2,] -1.2829700 2.3947625 0.0000000 0.0000000 0.000000\n",
      "[3,] -0.7383328 1.0284736 3.9065817 0.0000000 0.000000\n",
      "[4,] -0.7282535 0.2908277 0.6345917 3.2249512 0.000000\n",
      "[5,] -0.7921550 1.4090805 1.8035345 0.6854621 1.860136\n",
      "[1] \"k=\"\n",
      "[1] 4\n",
      "           [,1]      [,2]       [,3]     [,4]     [,5]\n",
      "[1,]  2.7283048 0.0000000  0.0000000 0.000000 0.000000\n",
      "[2,] -1.2829700 2.3947625  0.0000000 0.000000 0.000000\n",
      "[3,] -0.2241410 1.1997501  3.0251491 0.000000 0.000000\n",
      "[4,] -0.7282535 0.2908277 -1.3148446 3.012341 0.000000\n",
      "[5,] -0.7921550 1.4090805  0.8018228 1.463766 2.096943\n",
      "           [,1]      [,2]       [,3]     [,4]     [,5]\n",
      "[1,]  2.7283048 0.0000000  0.0000000 0.000000 0.000000\n",
      "[2,] -1.2829700 2.3947625  0.0000000 0.000000 0.000000\n",
      "[3,] -0.2241410 1.1997501  3.0251491 0.000000 0.000000\n",
      "[4,] -0.7282535 0.2908277 -1.3148446 3.012341 0.000000\n",
      "[5,] -0.7921550 1.4090805  0.8018228 1.463766 2.096943\n",
      "[1] \"k=\"\n",
      "[1] 5\n",
      "           [,1]     [,2]      [,3]     [,4]     [,5]\n",
      "[1,]  2.7283048 0.000000 0.0000000 0.000000 0.000000\n",
      "[2,] -1.2829700 2.394762 0.0000000 0.000000 0.000000\n",
      "[3,] -0.2241410 1.199750 3.0251491 0.000000 0.000000\n",
      "[4,] -0.7383328 1.028474 2.0287090 3.338521 0.000000\n",
      "[5,] -0.7921550 1.409080 0.8018228 1.623171 1.976132\n",
      "           [,1]     [,2]      [,3]     [,4]     [,5]\n",
      "[1,]  2.7283048 0.000000 0.0000000 0.000000 0.000000\n",
      "[2,] -1.2829700 2.394762 0.0000000 0.000000 0.000000\n",
      "[3,] -0.2241410 1.199750 3.0251491 0.000000 0.000000\n",
      "[4,] -0.7383328 1.028474 2.0287090 3.338521 0.000000\n",
      "[5,] -0.7921550 1.409080 0.8018228 1.623171 1.976132\n",
      "[1] \"k=\"\n",
      "[1] 6\n",
      "           [,1]      [,2]      [,3]     [,4]     [,5]\n",
      "[1,]  2.7283048 0.0000000  0.000000 0.000000 0.000000\n",
      "[2,] -1.2829700 2.3947625  0.000000 0.000000 0.000000\n",
      "[3,] -0.2241410 1.1997501  3.025149 0.000000 0.000000\n",
      "[4,] -0.7383328 1.0284736  2.028709 3.338521 0.000000\n",
      "[5,] -0.7282535 0.2908277 -1.314845 1.541557 2.588011\n",
      "           [,1]      [,2]      [,3]     [,4]     [,5]\n",
      "[1,]  2.7283048 0.0000000  0.000000 0.000000 0.000000\n",
      "[2,] -1.2829700 2.3947625  0.000000 0.000000 0.000000\n",
      "[3,] -0.2241410 1.1997501  3.025149 0.000000 0.000000\n",
      "[4,] -0.7383328 1.0284736  2.028709 3.338521 0.000000\n",
      "[5,] -0.7282535 0.2908277 -1.314845 1.541557 2.588011\n"
     ]
    }
   ],
   "source": [
    "##原始矩阵来进行验证。\n",
    "x = matrix(rnorm(60),10)\n",
    "xtx = t(x)%*%x\n",
    "L = Cholesky(xtx)\n",
    "L\n",
    "for (k in 1:dim(L)){\n",
    "    print('k=')\n",
    "    print(k)\n",
    "    print(mgivens(L,k))\n",
    "    xtxk = xtx[-k,-k]\n",
    "    print(Cholesky(xtxk))\n",
    "}"
   ]
  },
  {
   "cell_type": "code",
   "execution_count": 13,
   "metadata": {},
   "outputs": [
    {
     "data": {
      "text/html": [
       "<table>\n",
       "<caption>A matrix: 4 × 4 of type dbl</caption>\n",
       "<tbody>\n",
       "\t<tr><td> 2.18112145</td><td> 0.0000000</td><td> 0.0000000</td><td>0.000000</td></tr>\n",
       "\t<tr><td> 1.87747299</td><td> 2.0279450</td><td> 0.0000000</td><td>0.000000</td></tr>\n",
       "\t<tr><td>-0.50334721</td><td>-1.8163168</td><td> 1.2312857</td><td>0.000000</td></tr>\n",
       "\t<tr><td> 0.09132665</td><td> 0.2707168</td><td>-0.9251724</td><td>2.134681</td></tr>\n",
       "</tbody>\n",
       "</table>\n"
      ],
      "text/latex": [
       "A matrix: 4 × 4 of type dbl\n",
       "\\begin{tabular}{llll}\n",
       "\t  2.18112145 &  0.0000000 &  0.0000000 & 0.000000\\\\\n",
       "\t  1.87747299 &  2.0279450 &  0.0000000 & 0.000000\\\\\n",
       "\t -0.50334721 & -1.8163168 &  1.2312857 & 0.000000\\\\\n",
       "\t  0.09132665 &  0.2707168 & -0.9251724 & 2.134681\\\\\n",
       "\\end{tabular}\n"
      ],
      "text/markdown": [
       "\n",
       "A matrix: 4 × 4 of type dbl\n",
       "\n",
       "|  2.18112145 |  0.0000000 |  0.0000000 | 0.000000 |\n",
       "|  1.87747299 |  2.0279450 |  0.0000000 | 0.000000 |\n",
       "| -0.50334721 | -1.8163168 |  1.2312857 | 0.000000 |\n",
       "|  0.09132665 |  0.2707168 | -0.9251724 | 2.134681 |\n",
       "\n"
      ],
      "text/plain": [
       "     [,1]        [,2]       [,3]       [,4]    \n",
       "[1,]  2.18112145  0.0000000  0.0000000 0.000000\n",
       "[2,]  1.87747299  2.0279450  0.0000000 0.000000\n",
       "[3,] -0.50334721 -1.8163168  1.2312857 0.000000\n",
       "[4,]  0.09132665  0.2707168 -0.9251724 2.134681"
      ]
     },
     "metadata": {},
     "output_type": "display_data"
    },
    {
     "data": {
      "text/html": [
       "<table>\n",
       "<caption>A matrix: 4 × 4 of type dbl</caption>\n",
       "<tbody>\n",
       "\t<tr><td> 2.18112145</td><td> 0.0000000</td><td> 0.0000000</td><td>0.000000</td></tr>\n",
       "\t<tr><td> 1.87747299</td><td> 2.0279450</td><td> 0.0000000</td><td>0.000000</td></tr>\n",
       "\t<tr><td>-0.50334721</td><td>-1.8163168</td><td> 1.2312857</td><td>0.000000</td></tr>\n",
       "\t<tr><td> 0.09132665</td><td> 0.2707168</td><td>-0.9251724</td><td>2.134681</td></tr>\n",
       "</tbody>\n",
       "</table>\n"
      ],
      "text/latex": [
       "A matrix: 4 × 4 of type dbl\n",
       "\\begin{tabular}{llll}\n",
       "\t  2.18112145 &  0.0000000 &  0.0000000 & 0.000000\\\\\n",
       "\t  1.87747299 &  2.0279450 &  0.0000000 & 0.000000\\\\\n",
       "\t -0.50334721 & -1.8163168 &  1.2312857 & 0.000000\\\\\n",
       "\t  0.09132665 &  0.2707168 & -0.9251724 & 2.134681\\\\\n",
       "\\end{tabular}\n"
      ],
      "text/markdown": [
       "\n",
       "A matrix: 4 × 4 of type dbl\n",
       "\n",
       "|  2.18112145 |  0.0000000 |  0.0000000 | 0.000000 |\n",
       "|  1.87747299 |  2.0279450 |  0.0000000 | 0.000000 |\n",
       "| -0.50334721 | -1.8163168 |  1.2312857 | 0.000000 |\n",
       "|  0.09132665 |  0.2707168 | -0.9251724 | 2.134681 |\n",
       "\n"
      ],
      "text/plain": [
       "     [,1]        [,2]       [,3]       [,4]    \n",
       "[1,]  2.18112145  0.0000000  0.0000000 0.000000\n",
       "[2,]  1.87747299  2.0279450  0.0000000 0.000000\n",
       "[3,] -0.50334721 -1.8163168  1.2312857 0.000000\n",
       "[4,]  0.09132665  0.2707168 -0.9251724 2.134681"
      ]
     },
     "metadata": {},
     "output_type": "display_data"
    }
   ],
   "source": [
    "####增加一个变量的简便算法\n",
    "forupdate = function(L,xxk,xkxk){\n",
    "    lk = prefoward(L,xxk)\n",
    "    lkk = sqrt(xkxk-sum(lk*lk))\n",
    "    return (as.matrix(rbind(cbind(L,0),c(lk,lkk))))\n",
    "}\n",
    "x <- matrix(rnorm(60),10)\n",
    "xtx <- t(x)%*%x\n",
    "# xtx\n",
    "A <- c(3,2,4)  \n",
    "# xtx[A,A]\n",
    "L <- Cholesky(xtx[A,A]) \n",
    "k <- 5 #加入第五个变量\n",
    "xxk <- xtx[A,k,drop =T] \n",
    "xkxk = xtx[k,k]\n",
    "forupdate(L,xxk,xkxk)\n",
    "\n",
    "A = c(3,2,4,k)\n",
    "Cholesky(xtx[A,A])"
   ]
  },
  {
   "cell_type": "markdown",
   "metadata": {},
   "source": [
    "<font color=red>\n",
    "<br>需要注意：<br>\n",
    "前代法和回代法没有本质差别，只是A的形态并不相同，但原理是一致的。<br>\n",
    "这与接下来的减少一个变量和增加一个变量不同。<br>\n",
    "因为在减少一个变量的情况下，原矩阵包含所有的信息，因此只需要输入原本的L和需要减少的k。<br>\n",
    "但在增加一个变量的情况下，因为原矩阵不包含新增加变量的信息，因此后面的函数本质上要输入L，x和k这三个信息（或是L, xxk, xkxk）\n",
    "</font>"
   ]
  },
  {
   "cell_type": "markdown",
   "metadata": {},
   "source": [
    "\n",
    "# 对于下段代码中的\n",
    "\n",
    "RSS <- yty - sum(tb*tb)\n",
    "\n",
    "有如下解释：\n",
    "\n",
    "mforwardsolve(...)的结果为$L^T \\cdot \\beta$，其中$L$是$X^T X$经过Cholesky分解后的下三角阵，$L L^T=X^T X$。\n",
    "\\begin{equation}\n",
    "RSS=(Y-X\\beta)^T(Y-X\\beta)\\\\\n",
    "=Y^T Y-\\beta^T X^T Y-Y^T X\\beta+\\beta^T X^T X \\beta\n",
    "\\end{equation}\n",
    "因为$\\beta^T X^T Y$是一个数，所以$\\beta^T X^T Y=Y^T X\\beta$，所以\n",
    "\\begin{equation}\n",
    "RSS=Y^T Y-\\beta^T X^T Y\\\\\n",
    "=Y^T Y-\\beta^T X^T X \\beta\\\\\n",
    "=Y^T Y-\\beta^T L L^T \\beta\\\\\n",
    "=Y^T Y-(L^T \\beta)^T(L^T \\beta)\n",
    "\\end{equation}"
   ]
  },
  {
   "cell_type": "code",
   "execution_count": 18,
   "metadata": {},
   "outputs": [
    {
     "data": {
      "text/html": [
       "<table>\n",
       "<caption>A data.frame: 6 × 9</caption>\n",
       "<thead>\n",
       "\t<tr><th scope=col>lcavol</th><th scope=col>lweight</th><th scope=col>age</th><th scope=col>lbph</th><th scope=col>svi</th><th scope=col>lcp</th><th scope=col>gleason</th><th scope=col>pgg45</th><th scope=col>lpsa</th></tr>\n",
       "\t<tr><th scope=col>&lt;dbl&gt;</th><th scope=col>&lt;dbl&gt;</th><th scope=col>&lt;int&gt;</th><th scope=col>&lt;dbl&gt;</th><th scope=col>&lt;int&gt;</th><th scope=col>&lt;dbl&gt;</th><th scope=col>&lt;int&gt;</th><th scope=col>&lt;int&gt;</th><th scope=col>&lt;dbl&gt;</th></tr>\n",
       "</thead>\n",
       "<tbody>\n",
       "\t<tr><td>-0.5798185</td><td>2.769459</td><td>50</td><td>-1.386294</td><td>0</td><td>-1.386294</td><td>6</td><td> 0</td><td>-0.4307829</td></tr>\n",
       "\t<tr><td>-0.9942523</td><td>3.319626</td><td>58</td><td>-1.386294</td><td>0</td><td>-1.386294</td><td>6</td><td> 0</td><td>-0.1625189</td></tr>\n",
       "\t<tr><td>-0.5108256</td><td>2.691243</td><td>74</td><td>-1.386294</td><td>0</td><td>-1.386294</td><td>7</td><td>20</td><td>-0.1625189</td></tr>\n",
       "\t<tr><td>-1.2039728</td><td>3.282789</td><td>58</td><td>-1.386294</td><td>0</td><td>-1.386294</td><td>6</td><td> 0</td><td>-0.1625189</td></tr>\n",
       "\t<tr><td> 0.7514161</td><td>3.432373</td><td>62</td><td>-1.386294</td><td>0</td><td>-1.386294</td><td>6</td><td> 0</td><td> 0.3715636</td></tr>\n",
       "\t<tr><td>-1.0498221</td><td>3.228826</td><td>50</td><td>-1.386294</td><td>0</td><td>-1.386294</td><td>6</td><td> 0</td><td> 0.7654678</td></tr>\n",
       "</tbody>\n",
       "</table>\n"
      ],
      "text/latex": [
       "A data.frame: 6 × 9\n",
       "\\begin{tabular}{r|lllllllll}\n",
       " lcavol & lweight & age & lbph & svi & lcp & gleason & pgg45 & lpsa\\\\\n",
       " <dbl> & <dbl> & <int> & <dbl> & <int> & <dbl> & <int> & <int> & <dbl>\\\\\n",
       "\\hline\n",
       "\t -0.5798185 & 2.769459 & 50 & -1.386294 & 0 & -1.386294 & 6 &  0 & -0.4307829\\\\\n",
       "\t -0.9942523 & 3.319626 & 58 & -1.386294 & 0 & -1.386294 & 6 &  0 & -0.1625189\\\\\n",
       "\t -0.5108256 & 2.691243 & 74 & -1.386294 & 0 & -1.386294 & 7 & 20 & -0.1625189\\\\\n",
       "\t -1.2039728 & 3.282789 & 58 & -1.386294 & 0 & -1.386294 & 6 &  0 & -0.1625189\\\\\n",
       "\t  0.7514161 & 3.432373 & 62 & -1.386294 & 0 & -1.386294 & 6 &  0 &  0.3715636\\\\\n",
       "\t -1.0498221 & 3.228826 & 50 & -1.386294 & 0 & -1.386294 & 6 &  0 &  0.7654678\\\\\n",
       "\\end{tabular}\n"
      ],
      "text/markdown": [
       "\n",
       "A data.frame: 6 × 9\n",
       "\n",
       "| lcavol &lt;dbl&gt; | lweight &lt;dbl&gt; | age &lt;int&gt; | lbph &lt;dbl&gt; | svi &lt;int&gt; | lcp &lt;dbl&gt; | gleason &lt;int&gt; | pgg45 &lt;int&gt; | lpsa &lt;dbl&gt; |\n",
       "|---|---|---|---|---|---|---|---|---|\n",
       "| -0.5798185 | 2.769459 | 50 | -1.386294 | 0 | -1.386294 | 6 |  0 | -0.4307829 |\n",
       "| -0.9942523 | 3.319626 | 58 | -1.386294 | 0 | -1.386294 | 6 |  0 | -0.1625189 |\n",
       "| -0.5108256 | 2.691243 | 74 | -1.386294 | 0 | -1.386294 | 7 | 20 | -0.1625189 |\n",
       "| -1.2039728 | 3.282789 | 58 | -1.386294 | 0 | -1.386294 | 6 |  0 | -0.1625189 |\n",
       "|  0.7514161 | 3.432373 | 62 | -1.386294 | 0 | -1.386294 | 6 |  0 |  0.3715636 |\n",
       "| -1.0498221 | 3.228826 | 50 | -1.386294 | 0 | -1.386294 | 6 |  0 |  0.7654678 |\n",
       "\n"
      ],
      "text/plain": [
       "  lcavol     lweight  age lbph      svi lcp       gleason pgg45 lpsa      \n",
       "1 -0.5798185 2.769459 50  -1.386294 0   -1.386294 6        0    -0.4307829\n",
       "2 -0.9942523 3.319626 58  -1.386294 0   -1.386294 6        0    -0.1625189\n",
       "3 -0.5108256 2.691243 74  -1.386294 0   -1.386294 7       20    -0.1625189\n",
       "4 -1.2039728 3.282789 58  -1.386294 0   -1.386294 6        0    -0.1625189\n",
       "5  0.7514161 3.432373 62  -1.386294 0   -1.386294 6        0     0.3715636\n",
       "6 -1.0498221 3.228826 50  -1.386294 0   -1.386294 6        0     0.7654678"
      ]
     },
     "metadata": {},
     "output_type": "display_data"
    }
   ],
   "source": [
    "###逐步回归，\n",
    "##导入数据集\n",
    "library(ElemStatLearn)\n",
    "data(prostate)\n",
    "data <- prostate[,-10]\n",
    "head(data)"
   ]
  },
  {
   "cell_type": "code",
   "execution_count": 17,
   "metadata": {},
   "outputs": [
    {
     "data": {
      "text/html": [
       "<table>\n",
       "<caption>A data.frame: 1 × 8</caption>\n",
       "<thead>\n",
       "\t<tr><th scope=col>inter</th><th scope=col>lcavol</th><th scope=col>lbph</th><th scope=col>pgg45</th><th scope=col>lweight</th><th scope=col>svi</th><th scope=col>lcp</th><th scope=col>age</th></tr>\n",
       "\t<tr><th scope=col>&lt;dbl&gt;</th><th scope=col>&lt;dbl&gt;</th><th scope=col>&lt;dbl&gt;</th><th scope=col>&lt;dbl&gt;</th><th scope=col>&lt;dbl&gt;</th><th scope=col>&lt;dbl&gt;</th><th scope=col>&lt;dbl&gt;</th><th scope=col>&lt;dbl&gt;</th></tr>\n",
       "</thead>\n",
       "<tbody>\n",
       "\t<tr><td>0.4941548</td><td>0.569546</td><td>0.09735254</td><td>0.005324465</td><td>0.6144198</td><td>0.7523973</td><td>-0.1049594</td><td>-0.02091347</td></tr>\n",
       "</tbody>\n",
       "</table>\n"
      ],
      "text/latex": [
       "A data.frame: 1 × 8\n",
       "\\begin{tabular}{r|llllllll}\n",
       " inter & lcavol & lbph & pgg45 & lweight & svi & lcp & age\\\\\n",
       " <dbl> & <dbl> & <dbl> & <dbl> & <dbl> & <dbl> & <dbl> & <dbl>\\\\\n",
       "\\hline\n",
       "\t 0.4941548 & 0.569546 & 0.09735254 & 0.005324465 & 0.6144198 & 0.7523973 & -0.1049594 & -0.02091347\\\\\n",
       "\\end{tabular}\n"
      ],
      "text/markdown": [
       "\n",
       "A data.frame: 1 × 8\n",
       "\n",
       "| inter &lt;dbl&gt; | lcavol &lt;dbl&gt; | lbph &lt;dbl&gt; | pgg45 &lt;dbl&gt; | lweight &lt;dbl&gt; | svi &lt;dbl&gt; | lcp &lt;dbl&gt; | age &lt;dbl&gt; |\n",
       "|---|---|---|---|---|---|---|---|\n",
       "| 0.4941548 | 0.569546 | 0.09735254 | 0.005324465 | 0.6144198 | 0.7523973 | -0.1049594 | -0.02091347 |\n",
       "\n"
      ],
      "text/plain": [
       "  inter     lcavol   lbph       pgg45       lweight   svi       lcp       \n",
       "1 0.4941548 0.569546 0.09735254 0.005324465 0.6144198 0.7523973 -0.1049594\n",
       "  age        \n",
       "1 -0.02091347"
      ]
     },
     "metadata": {},
     "output_type": "display_data"
    }
   ],
   "source": [
    "steplm = function(data){\n",
    "    #构造x,xn,y\n",
    "    n = dim(data)[1]\n",
    "    p = dim(data)[2]-1  \n",
    "    xn = c('inter',names(data)[1:p])\n",
    "#     return (xn)\n",
    "    x = as.matrix(cbind(1,data[,1:p]))\n",
    "    y = data[,p+1]\n",
    "  \n",
    "    #回归参数\n",
    "    xtx=t(x)%*%x\n",
    "    xty=drop(t(x)%*%y)\n",
    "    yty=sum(y*y)\n",
    "    \n",
    "    #求解方程，得到解b\n",
    "    L = Cholesky(xtx)\n",
    "    tb = prefoward(L,xty)\n",
    "    b = backfoward(t(L),tb) \n",
    "    \n",
    "    #计算RSS和AIC\n",
    "    RSS = yty - sum(tb*tb)\n",
    "    AICF = n*log(RSS/n) + 2*(p+1)\n",
    "    \n",
    "    #初始化\n",
    "    A = 1:(p+1)\n",
    "    LA = L\n",
    "    MAIC = AICF\n",
    "    mAIC = AICF\n",
    "    #两个序号参数，控制谁进谁出\n",
    "    flag = rep(TRUE,p+1)\n",
    "    MFLAG = c(TRUE,rep(FALSE,p))\n",
    "    hbb = b\n",
    "    #逐步回归过程\n",
    "    repeat{\n",
    "        #添加第几个变量进来\n",
    "        if (length(A)<p+1){\n",
    "            B = (1:(p+1))[!flag]\n",
    "        }else{\n",
    "            B = NULL\n",
    "        }\n",
    "        AB = c(A,B)#目前是那些变量进入回归模型\n",
    "        bm = matrix(0,p,p+1)\n",
    "        AICm = rep(0,p)\n",
    "        \n",
    "        ff = 1\n",
    "        for (k in AB){\n",
    "            #k是第几个变量\n",
    "            if(MFLAG[k]){\n",
    "                ff = ff+1\n",
    "            }else{\n",
    "                if (flag[k]){\n",
    "                    #剔除\n",
    "                    Lk = mgivens(LA,ff)\n",
    "                    tA = A[-ff]\n",
    "                    xtyk =xty[tA]\n",
    "                    ff = ff +1\n",
    "                }else{\n",
    "                    xxk = xtx[A,k,drop =T]\n",
    "                    xkxk =xtx[k,k]\n",
    "                    LK = forupdate(LA,xxk,xkxk)\n",
    "                    tA = c(A,k)\n",
    "                    xtyk = xty[tA]\n",
    "                }\n",
    "                #去掉一个或增加一个变量的结果\n",
    "                tbk = prefoward(Lk,xtyk)\n",
    "                bk = backfoward(t(Lk),tbk)\n",
    "                \n",
    "                bm[k-1,tA] = bk\n",
    "                \n",
    "                #计算RSSK\n",
    "                RSSk = yty - sum(tbk*tbk)\n",
    "                AICk = n*log(RSSk/n) + 2*length(tA)\n",
    "                AICm[k-1] = AICk\n",
    "                #判断最小AICK是哪个\n",
    "                if(AICk<mAIC){\n",
    "                    mink = k\n",
    "                    mtA = tA\n",
    "                    mAIC = AICk\n",
    "                    mLA =Lk\n",
    "                    hb = bm[k-1,]\n",
    "                }\n",
    "            }\n",
    "        }\n",
    "        if(mAIC<MAIC){\n",
    "            flag[mink] = !flag[mink]\n",
    "            A = mtA\n",
    "            LA = mLA\n",
    "            MAIC =mAIC\n",
    "            hhb = hb\n",
    "        }\n",
    "        ##如果所有的都大于，则跳出循环。\n",
    "        if(mAIC >= MAIC) break\n",
    "        \n",
    "    }\n",
    "    re = data.frame(matrix(hhb[c(flag)],nrow = 1))\n",
    "    names(re) = xn[flag]\n",
    "    return (re)\n",
    "}\n",
    "# steplm(data)\n",
    "data = data[,c(sample(1:8,8),9)]\n",
    "steplm(data)\n",
    "# data"
   ]
  }
 ],
 "metadata": {
  "kernelspec": {
   "display_name": "R",
   "language": "R",
   "name": "ir"
  },
  "language_info": {
   "codemirror_mode": "r",
   "file_extension": ".r",
   "mimetype": "text/x-r-source",
   "name": "R",
   "pygments_lexer": "r",
   "version": "3.5.1"
  }
 },
 "nbformat": 4,
 "nbformat_minor": 2
}
